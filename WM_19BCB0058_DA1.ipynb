{
 "cells": [
  {
   "cell_type": "code",
   "execution_count": 1,
   "id": "a72e600c",
   "metadata": {},
   "outputs": [
    {
     "name": "stderr",
     "output_type": "stream",
     "text": [
      "[nltk_data] Downloading package punkt to\n",
      "[nltk_data]     C:\\Users\\Preetha\\AppData\\Roaming\\nltk_data...\n",
      "[nltk_data]   Package punkt is already up-to-date!\n",
      "[nltk_data] Downloading package stopwords to\n",
      "[nltk_data]     C:\\Users\\Preetha\\AppData\\Roaming\\nltk_data...\n",
      "[nltk_data]   Package stopwords is already up-to-date!\n"
     ]
    },
    {
     "data": {
      "text/plain": [
       "True"
      ]
     },
     "execution_count": 1,
     "metadata": {},
     "output_type": "execute_result"
    }
   ],
   "source": [
    "from nltk.corpus import stopwords\n",
    "from nltk.tokenize import word_tokenize\n",
    "import nltk\n",
    "nltk.download('punkt')\n",
    "nltk.download('stopwords')"
   ]
  },
  {
   "cell_type": "code",
   "execution_count": 21,
   "id": "9b57ad79",
   "metadata": {},
   "outputs": [],
   "source": [
    "txt= \"What is Web Mining? Web Mining is the process of -Data Mining- techniques,and extract information from Web documents and services. The main purpose of web mining is discovering useful information from the World-Wide Web and its usage patterns.\"\n",
    "\n",
    "#word tokenize\n",
    "text_tokens = word_tokenize(txt)"
   ]
  },
  {
   "cell_type": "code",
   "execution_count": 22,
   "id": "295ccaf9",
   "metadata": {},
   "outputs": [
    {
     "name": "stdout",
     "output_type": "stream",
     "text": [
      "['What', 'is', 'Web', 'Mining', '?', 'Web', 'Mining', 'is', 'the', 'process', 'of', '-Data', 'Mining-', 'techniques', ',', 'and', 'extract', 'information', 'from', 'Web', 'documents', 'and', 'services', '.', 'The', 'main', 'purpose', 'of', 'web', 'mining', 'is', 'discovering', 'useful', 'information', 'from', 'the', 'World-Wide', 'Web', 'and', 'its', 'usage', 'patterns', '.']\n"
     ]
    }
   ],
   "source": [
    "\n",
    "print(text_tokens)"
   ]
  },
  {
   "cell_type": "code",
   "execution_count": 23,
   "id": "e8aee019",
   "metadata": {},
   "outputs": [
    {
     "name": "stdout",
     "output_type": "stream",
     "text": [
      "['What is Web Mining?', 'Web Mining is the process of -Data Mining- techniques,and extract information from Web documents and services.', 'The main purpose of web mining is discovering useful information from the World-Wide Web and its usage patterns.']\n"
     ]
    }
   ],
   "source": [
    "#sentence tokenize\n",
    "from nltk.tokenize import sent_tokenize\n",
    "sentences = sent_tokenize(txt)\n",
    "\n",
    "print(sentences)"
   ]
  },
  {
   "cell_type": "code",
   "execution_count": 24,
   "id": "6d8e6fe9",
   "metadata": {},
   "outputs": [
    {
     "name": "stdout",
     "output_type": "stream",
     "text": [
      "['What', 'Web', 'Mining', '?', 'Web', 'Mining', 'process', '-Data', 'Mining-', 'techniques', ',', 'extract', 'information', 'Web', 'documents', 'services', '.', 'The', 'main', 'purpose', 'web', 'mining', 'discovering', 'useful', 'information', 'World-Wide', 'Web', 'usage', 'patterns', '.']\n"
     ]
    }
   ],
   "source": [
    "#removing punctuation\n",
    "\n",
    "tokens_without_sw= [word for word in text_tokens if not word in stopwords.words()]\n",
    "print(tokens_without_sw)\n"
   ]
  },
  {
   "cell_type": "code",
   "execution_count": 25,
   "id": "d6f1e276",
   "metadata": {},
   "outputs": [
    {
     "name": "stdout",
     "output_type": "stream",
     "text": [
      "['What', 'Web', 'Mining', 'Web', 'Mining', 'process', 'Data', 'Mining', 'techniquesand', 'extract', 'information', 'Web', 'documents', 'services', 'The', 'main', 'purpose', 'web', 'mining', 'discovering', 'useful', 'information', 'WorldWide', 'Web', 'usage', 'patterns']\n"
     ]
    }
   ],
   "source": [
    "# punctuation in stopwords\n",
    "puncs = '!()-[]{};:\"\",<>./?@#$%^&*_'''\n",
    "all_stopwords = stopwords.words('english')\n",
    "\n",
    "no_punct =\" \"\n",
    "for char in txt:\n",
    "    if char not in puncs:\n",
    "        no_punct = no_punct + char\n",
    "\n",
    "text_token = word_tokenize(no_punct)\n",
    "tokens_without_new_sw= [word for word in text_token if not word in all_stopwords]\n",
    "\n",
    "print(tokens_without_new_sw)\n",
    "\n"
   ]
  },
  {
   "cell_type": "code",
   "execution_count": 26,
   "id": "f494f7a8",
   "metadata": {},
   "outputs": [
    {
     "name": "stdout",
     "output_type": "stream",
     "text": [
      "What Web Mining Web Mining process Data Mining techniquesand extract information Web documents services The main purpose web mining discovering useful information WorldWide Web usage patterns\n"
     ]
    }
   ],
   "source": [
    "fil_sen =(\" \").join(tokens_without_new_sw)\n",
    "print(fil_sen)"
   ]
  },
  {
   "cell_type": "code",
   "execution_count": 27,
   "id": "cb53e715",
   "metadata": {},
   "outputs": [
    {
     "name": "stdout",
     "output_type": "stream",
     "text": [
      "PREETHA SIVAKUMAR 19BCB0058\n"
     ]
    }
   ],
   "source": [
    "print(\"PREETHA SIVAKUMAR 19BCB0058\")"
   ]
  },
  {
   "cell_type": "code",
   "execution_count": null,
   "id": "abdb5c8b",
   "metadata": {},
   "outputs": [],
   "source": []
  }
 ],
 "metadata": {
  "kernelspec": {
   "display_name": "Python 3 (ipykernel)",
   "language": "python",
   "name": "python3"
  },
  "language_info": {
   "codemirror_mode": {
    "name": "ipython",
    "version": 3
   },
   "file_extension": ".py",
   "mimetype": "text/x-python",
   "name": "python",
   "nbconvert_exporter": "python",
   "pygments_lexer": "ipython3",
   "version": "3.9.7"
  }
 },
 "nbformat": 4,
 "nbformat_minor": 5
}

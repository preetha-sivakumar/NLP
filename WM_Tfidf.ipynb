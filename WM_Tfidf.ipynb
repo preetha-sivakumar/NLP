{
 "cells": [
  {
   "cell_type": "code",
   "execution_count": 1,
   "id": "cf908744",
   "metadata": {},
   "outputs": [],
   "source": [
    "from sklearn.feature_extraction.text import TfidfVectorizer"
   ]
  },
  {
   "cell_type": "code",
   "execution_count": 16,
   "id": "d2f61cc4",
   "metadata": {},
   "outputs": [],
   "source": [
    "d1 = 'Bts stands for'\n",
    "d2 = 'Bts'\n",
    "d3 = 'fgg'\n",
    "str = [d1,d2,d3]"
   ]
  },
  {
   "cell_type": "code",
   "execution_count": 17,
   "id": "e9074b70",
   "metadata": {},
   "outputs": [],
   "source": [
    "tfidf = TfidfVectorizer()\n",
    "res = tfidf.fit_transform(str)"
   ]
  },
  {
   "cell_type": "code",
   "execution_count": 18,
   "id": "5e967105",
   "metadata": {},
   "outputs": [
    {
     "name": "stdout",
     "output_type": "stream",
     "text": [
      "idf values\n",
      "bts : 1.2876820724517808\n",
      "fgg : 1.6931471805599454\n",
      "for : 1.6931471805599454\n",
      "stands : 1.6931471805599454\n"
     ]
    }
   ],
   "source": [
    "print('idf values')\n",
    "for i,j in zip(tfidf.get_feature_names(), tfidf.idf_):\n",
    "    print(i, \":\",j)"
   ]
  },
  {
   "cell_type": "code",
   "execution_count": 19,
   "id": "8b69e03f",
   "metadata": {},
   "outputs": [
    {
     "name": "stdout",
     "output_type": "stream",
     "text": [
      "\n",
      "word indexes:\n",
      "{'bts': 0, 'stands': 3, 'for': 2, 'fgg': 1}\n"
     ]
    }
   ],
   "source": [
    "#get indexing\n",
    "print('\\nword indexes:')\n",
    "print(tfidf.vocabulary_)"
   ]
  },
  {
   "cell_type": "code",
   "execution_count": 20,
   "id": "a1ddbb71",
   "metadata": {},
   "outputs": [
    {
     "name": "stdout",
     "output_type": "stream",
     "text": [
      "\n",
      "ntf-idf value:\n",
      "  (0, 2)\t0.6227660078332259\n",
      "  (0, 3)\t0.6227660078332259\n",
      "  (0, 0)\t0.4736296010332684\n",
      "  (1, 0)\t1.0\n",
      "  (2, 1)\t1.0\n"
     ]
    }
   ],
   "source": [
    "#display tf.idf values\n",
    "print('\\nntf-idf value:')\n",
    "print(res)"
   ]
  },
  {
   "cell_type": "code",
   "execution_count": 21,
   "id": "28977e34",
   "metadata": {},
   "outputs": [
    {
     "name": "stdout",
     "output_type": "stream",
     "text": [
      "\n",
      "ntf-idf values in matrix:\n",
      "[[0.4736296  0.         0.62276601 0.62276601]\n",
      " [1.         0.         0.         0.        ]\n",
      " [0.         1.         0.         0.        ]]\n"
     ]
    }
   ],
   "source": [
    "#in matrix form\n",
    "print('\\nntf-idf values in matrix:')\n",
    "print(res.toarray())"
   ]
  },
  {
   "cell_type": "code",
   "execution_count": 23,
   "id": "772d5040",
   "metadata": {},
   "outputs": [],
   "source": [
    "d1 = 'VIT1'\n",
    "d2 = 'VIT2'\n",
    "d3 = 'VIT3'\n",
    "d4 = 'VIT4'\n",
    "str = [d1,d2,d3,d4]"
   ]
  },
  {
   "cell_type": "code",
   "execution_count": 24,
   "id": "a176a44a",
   "metadata": {},
   "outputs": [],
   "source": [
    "tfidf = TfidfVectorizer()\n",
    "res = tfidf.fit_transform(str)"
   ]
  },
  {
   "cell_type": "code",
   "execution_count": 25,
   "id": "baf26d71",
   "metadata": {},
   "outputs": [
    {
     "name": "stdout",
     "output_type": "stream",
     "text": [
      "\n",
      "word indexes:\n",
      "{'vit1': 0, 'vit2': 1, 'vit3': 2, 'vit4': 3}\n"
     ]
    }
   ],
   "source": [
    "#get indexing\n",
    "print('\\nword indexes:')\n",
    "print(tfidf.vocabulary_)"
   ]
  },
  {
   "cell_type": "code",
   "execution_count": 26,
   "id": "e4568b58",
   "metadata": {},
   "outputs": [
    {
     "name": "stdout",
     "output_type": "stream",
     "text": [
      "\n",
      "ntf-idf value:\n",
      "  (0, 0)\t1.0\n",
      "  (1, 1)\t1.0\n",
      "  (2, 2)\t1.0\n",
      "  (3, 3)\t1.0\n"
     ]
    }
   ],
   "source": [
    "#display tf.idf values\n",
    "print('\\nntf-idf value:')\n",
    "print(res)"
   ]
  },
  {
   "cell_type": "code",
   "execution_count": null,
   "id": "54fca378",
   "metadata": {},
   "outputs": [],
   "source": []
  }
 ],
 "metadata": {
  "kernelspec": {
   "display_name": "Python 3 (ipykernel)",
   "language": "python",
   "name": "python3"
  },
  "language_info": {
   "codemirror_mode": {
    "name": "ipython",
    "version": 3
   },
   "file_extension": ".py",
   "mimetype": "text/x-python",
   "name": "python",
   "nbconvert_exporter": "python",
   "pygments_lexer": "ipython3",
   "version": "3.9.7"
  }
 },
 "nbformat": 4,
 "nbformat_minor": 5
}

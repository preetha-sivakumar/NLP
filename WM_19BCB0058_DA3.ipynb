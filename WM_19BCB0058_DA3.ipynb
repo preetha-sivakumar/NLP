{
 "cells": [
  {
   "cell_type": "code",
   "execution_count": 1,
   "id": "84e857ec",
   "metadata": {},
   "outputs": [],
   "source": [
    "from math import log\n",
    "\n",
    "log2 = lambda x: log(x,2)\n",
    "    \n",
    "def Unary(x):\n",
    "    return (x-1)*'0'+'1'\n",
    "\n",
    "def Binary(x,l =1):\n",
    "    s= '{0:0%db}' % l\n",
    "    return s.format(x)\n",
    "def Elias_Gamma(x):\n",
    "    if(x ==0):\n",
    "        return '0'\n",
    "    n = 1+ int(log2(x))\n",
    "    b = x -2**(int(log2(x)))\n",
    "    l = int(log2(x))\n",
    "    \n",
    "    return Unary(n) + Binary (b,1)"
   ]
  },
  {
   "cell_type": "code",
   "execution_count": 2,
   "id": "e7deb309",
   "metadata": {},
   "outputs": [
    {
     "name": "stdout",
     "output_type": "stream",
     "text": [
      "2 010\n",
      "4 0010\n",
      "6 00110\n",
      "8 00010\n",
      "10 000110\n",
      "12 0001100\n",
      "14 0001110\n",
      "16 000010\n",
      "18 0000110\n",
      "20 00001100\n"
     ]
    }
   ],
   "source": [
    "#encoding elias gamma for even numbers[1-20]\n",
    "i=2\n",
    "while i<=20: \n",
    "    print(i, Elias_Gamma(i))\n",
    "    i = i + 2"
   ]
  },
  {
   "cell_type": "code",
   "execution_count": 3,
   "id": "1fc97846",
   "metadata": {},
   "outputs": [],
   "source": [
    "#decoding elias gamma for even numbers[1-20]\n",
    "import math\n",
    "def Elias_Gamma_Decoding(x):\n",
    "    x = list(x)\n",
    "    K = 0\n",
    "    while True:\n",
    "        if not x[K] == '0':\n",
    "            break\n",
    "        K = K + 1\n",
    "      \n",
    "    # Reading K more bits from '1'\n",
    "    x = x[K:2*K+1]\n",
    "  \n",
    "    n = 0\n",
    "    x.reverse()\n",
    "      \n",
    "    # Converting binary to integer\n",
    "    for i in range(len(x)):\n",
    "        if x[i] == '1':\n",
    "            n = n+math.pow(2, i)\n",
    "    return int(n)\n",
    "\n",
    "  "
   ]
  },
  {
   "cell_type": "code",
   "execution_count": 4,
   "id": "3db78f0a",
   "metadata": {},
   "outputs": [
    {
     "name": "stdout",
     "output_type": "stream",
     "text": [
      "2\n",
      "4\n",
      "6\n",
      "8\n",
      "10\n",
      "12\n",
      "14\n",
      "16\n",
      "18\n",
      "20\n"
     ]
    }
   ],
   "source": [
    "#decoding function called for specific gamma codes\n",
    "print(Elias_Gamma_Decoding('010'))\n",
    "print(Elias_Gamma_Decoding('00100'))\n",
    "print(Elias_Gamma_Decoding('00110'))\n",
    "print(Elias_Gamma_Decoding('0001000'))\n",
    "print(Elias_Gamma_Decoding('0001010'))\n",
    "print(Elias_Gamma_Decoding('0001100'))\n",
    "print(Elias_Gamma_Decoding('0001110'))\n",
    "print(Elias_Gamma_Decoding('000010000'))\n",
    "print(Elias_Gamma_Decoding('000010010'))\n",
    "print(Elias_Gamma_Decoding('000010100'))"
   ]
  },
  {
   "cell_type": "code",
   "execution_count": 5,
   "id": "6eba444f",
   "metadata": {},
   "outputs": [
    {
     "name": "stdout",
     "output_type": "stream",
     "text": [
      "PREETHA SIVAKUMAR 19BCB0058\n"
     ]
    }
   ],
   "source": [
    "print(\"PREETHA SIVAKUMAR 19BCB0058\")"
   ]
  },
  {
   "cell_type": "code",
   "execution_count": null,
   "id": "61f57caf",
   "metadata": {},
   "outputs": [],
   "source": []
  }
 ],
 "metadata": {
  "kernelspec": {
   "display_name": "Python 3 (ipykernel)",
   "language": "python",
   "name": "python3"
  },
  "language_info": {
   "codemirror_mode": {
    "name": "ipython",
    "version": 3
   },
   "file_extension": ".py",
   "mimetype": "text/x-python",
   "name": "python",
   "nbconvert_exporter": "python",
   "pygments_lexer": "ipython3",
   "version": "3.9.7"
  }
 },
 "nbformat": 4,
 "nbformat_minor": 5
}

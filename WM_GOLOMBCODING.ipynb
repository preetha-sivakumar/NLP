{
 "cells": [
  {
   "cell_type": "code",
   "execution_count": 7,
   "id": "23e46c36",
   "metadata": {},
   "outputs": [
    {
     "name": "stdout",
     "output_type": "stream",
     "text": [
      "golomb code encoding for x =9 and b =4 is 00101\n"
     ]
    }
   ],
   "source": [
    "import math\n",
    "n = 9\n",
    "m = 4\n",
    "\n",
    "q = n//m\n",
    "r = n % m\n",
    "\n",
    "quo = '0'*q +'1'\n",
    "\n",
    "b = math.floor(math.log2(m))\n",
    "k = 2**(b +1) -m\n",
    "\n",
    "if r<k:\n",
    "    rem = bin(r)[2:]\n",
    "    l = len(rem)\n",
    "    \n",
    "    if l<b:\n",
    "        rem = '0'*(b-1) +rem\n",
    "else:\n",
    "    rem = bin(r+k)[2:]\n",
    "    l = len(rem)\n",
    "    \n",
    "    if l< b+1:\n",
    "        rem = '0'*(b+ 1-l)+rem\n",
    "golomb_code = quo + rem\n",
    "\n",
    "print(\"golomb code encoding for x ={} and b ={} is {}\". format(n,m,golomb_code))"
   ]
  },
  {
   "cell_type": "code",
   "execution_count": 16,
   "id": "535a5cdb",
   "metadata": {},
   "outputs": [
    {
     "name": "stdout",
     "output_type": "stream",
     "text": [
      "enter code:00110\n",
      "enter value of b:3\n",
      "decoded value: 5.0\n"
     ]
    }
   ],
   "source": [
    "def decode(x):\n",
    "    num = 0\n",
    "    for i in range(len(x)):\n",
    "        num += (int(x[len(x)-1-i])) * (math.pow(2,i))\n",
    "        return num\n",
    "x =str(input(\"enter code:\"))\n",
    "x =list(x)\n",
    "b = int(input(\"enter value of b:\"))\n",
    "i  = math.floor(math.log(b,2))\n",
    "d = math.pow(2,i+1)-b\n",
    "p2 =0\n",
    "l=1\n",
    "while(p2<len(x)):\n",
    "    t=0\n",
    "    flag=0\n",
    "    r=[]\n",
    "    k=i\n",
    "    q=0\n",
    "    for p in range(p2,len(x)):\n",
    "        if(x[p] =='0' and flag ==0):\n",
    "            t+=1\n",
    "            continue\n",
    "        if(x[p]=='1' and flag ==0):\n",
    "            q=t\n",
    "            flag =1\n",
    "            continue\n",
    "        r.append(x[p])\n",
    "        k-= 1\n",
    "        if(k==0):\n",
    "            rnum =decode(r)\n",
    "            if(rnum<d):\n",
    "                p2 =p+1\n",
    "                break\n",
    "                \n",
    "        if(k==-1):\n",
    "            rnum = decode(r)\n",
    "            rnum = rnum -d\n",
    "            p2=p+1\n",
    "            break\n",
    "    val =q *b +rnum\n",
    "    print(\"decoded value:\" ,val)\n",
    "    l=0       \n",
    "        \n",
    "    "
   ]
  },
  {
   "cell_type": "code",
   "execution_count": 17,
   "id": "c6881792",
   "metadata": {},
   "outputs": [
    {
     "name": "stdout",
     "output_type": "stream",
     "text": [
      "Enter Golomb code: 00110\n",
      "Enter value of b: 5\n",
      "Decoding of Golomb code with b = 5  is  10.0\n"
     ]
    }
   ],
   "source": [
    "import math\n",
    "\n",
    "\n",
    "def decode(x):\n",
    "    num=0;\n",
    "    for i in range(len(x)):\n",
    "        num+=(int(x[len(x)-1-i])*(math.pow(2,i)));\n",
    "        return num;\n",
    "\n",
    "x=str(input('Enter Golomb code: '))\n",
    "x=list(x)\n",
    "b=int(input('Enter value of b: '))\n",
    "i=math.floor(math.log(b,2))\n",
    "d=math.pow(2,i+1)-b\n",
    "p2=0;\n",
    "l=1;\n",
    "while(p2<len(x)):\n",
    "    t=0;\n",
    "    flag=0;\n",
    "    r=[];\n",
    "    k=i;\n",
    "    q=0;\n",
    "    for p in range(p2,len(x)):\n",
    "        if(x[p]=='0' and flag==0):\n",
    "            t+=1;\n",
    "            continue;\n",
    "        if(x[p]=='1' and flag==0):\n",
    "            q=t;\n",
    "            flag=1;\n",
    "            continue;\n",
    "        r.append(x[p]);\n",
    "        k-=1;\n",
    "        if(k==0):\n",
    "            rnum=decode(r);\n",
    "            if(rnum<d):\n",
    "                p2=p+1;\n",
    "                break;\n",
    "        if(k==-1):\n",
    "            rnum=decode(r);\n",
    "            rnum=rnum-d;\n",
    "            p2=p+1;\n",
    "            break;\n",
    "ans=q*b+rnum;\n",
    "print(\"Decoding of Golomb code with b =\",b,\" is \", ans);\n",
    "l=0;"
   ]
  },
  {
   "cell_type": "code",
   "execution_count": null,
   "id": "ee0c4b1f",
   "metadata": {},
   "outputs": [],
   "source": []
  }
 ],
 "metadata": {
  "kernelspec": {
   "display_name": "Python 3 (ipykernel)",
   "language": "python",
   "name": "python3"
  },
  "language_info": {
   "codemirror_mode": {
    "name": "ipython",
    "version": 3
   },
   "file_extension": ".py",
   "mimetype": "text/x-python",
   "name": "python",
   "nbconvert_exporter": "python",
   "pygments_lexer": "ipython3",
   "version": "3.9.7"
  }
 },
 "nbformat": 4,
 "nbformat_minor": 5
}

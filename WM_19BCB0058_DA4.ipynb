{
 "cells": [
  {
   "cell_type": "code",
   "execution_count": 1,
   "id": "82bda231",
   "metadata": {},
   "outputs": [],
   "source": [
    "from sklearn.feature_extraction.text import TfidfVectorizer"
   ]
  },
  {
   "cell_type": "code",
   "execution_count": 2,
   "id": "45826449",
   "metadata": {},
   "outputs": [],
   "source": [
    "#documents\n",
    "d1 = 'VIT Vellore University'\n",
    "d2 = 'VIT'\n",
    "d3 = 'Web'\n",
    "str = [d1,d2,d3]"
   ]
  },
  {
   "cell_type": "code",
   "execution_count": 3,
   "id": "d43ab7d6",
   "metadata": {},
   "outputs": [],
   "source": [
    "tfidf = TfidfVectorizer()\n",
    "res = tfidf.fit_transform(str)"
   ]
  },
  {
   "cell_type": "code",
   "execution_count": 4,
   "id": "931c06aa",
   "metadata": {},
   "outputs": [
    {
     "name": "stdout",
     "output_type": "stream",
     "text": [
      "idf values\n",
      "university : 1.6931471805599454\n",
      "vellore : 1.6931471805599454\n",
      "vit : 1.2876820724517808\n",
      "web : 1.6931471805599454\n"
     ]
    }
   ],
   "source": [
    "print('idf values')\n",
    "for i,j in zip(tfidf.get_feature_names(), tfidf.idf_):\n",
    "    print(i, \":\",j)"
   ]
  },
  {
   "cell_type": "code",
   "execution_count": 5,
   "id": "e5cdbff1",
   "metadata": {},
   "outputs": [
    {
     "name": "stdout",
     "output_type": "stream",
     "text": [
      "\n",
      "word indexes:\n",
      "{'vit': 2, 'vellore': 1, 'university': 0, 'web': 3}\n"
     ]
    }
   ],
   "source": [
    "#get indexing\n",
    "print('\\nword indexes:')\n",
    "print(tfidf.vocabulary_)"
   ]
  },
  {
   "cell_type": "code",
   "execution_count": 7,
   "id": "caf47ff5",
   "metadata": {},
   "outputs": [
    {
     "name": "stdout",
     "output_type": "stream",
     "text": [
      "\n",
      "tf-idf value:\n",
      "  (0, 0)\t0.6227660078332259\n",
      "  (0, 1)\t0.6227660078332259\n",
      "  (0, 2)\t0.4736296010332684\n",
      "  (1, 2)\t1.0\n",
      "  (2, 3)\t1.0\n"
     ]
    }
   ],
   "source": [
    "#display tf.idf values\n",
    "print('\\ntf-idf value:')\n",
    "print(res)"
   ]
  },
  {
   "cell_type": "code",
   "execution_count": 8,
   "id": "7d5dd81a",
   "metadata": {},
   "outputs": [
    {
     "name": "stdout",
     "output_type": "stream",
     "text": [
      "\n",
      "tf-idf values in matrix:\n",
      "[[0.62276601 0.62276601 0.4736296  0.        ]\n",
      " [0.         0.         1.         0.        ]\n",
      " [0.         0.         0.         1.        ]]\n"
     ]
    }
   ],
   "source": [
    "#in matrix form\n",
    "print('\\ntf-idf values in matrix:')\n",
    "print(res.toarray())"
   ]
  },
  {
   "cell_type": "code",
   "execution_count": 9,
   "id": "13080afd",
   "metadata": {},
   "outputs": [],
   "source": [
    "# ELIAS DELTA ENCODING\n",
    "from math import log\n",
    "from math import floor\n",
    "\n",
    "def Binary_RepWithout_MSB(x):\n",
    "    binary = \"{0:b}\".format(int(x))\n",
    "    binary_without_MSB = binary[1:]\n",
    "    return binary_without_MSB\n",
    "\n",
    "def EliasGammaEncode(k):\n",
    "    if(k==0):\n",
    "        return '0'\n",
    "    N = 1+ floor(log(k,2))\n",
    "    Unary = (N-1)*'0' + '1'\n",
    "    return Unary +Binary_RepWithout_MSB(k)\n",
    "\n",
    "def EliasDeltaEncode(x):\n",
    "    Gamma = EliasGammaEncode(1 +floor(log(k,2)))\n",
    "    binary_without_MSB = Binary_RepWithout_MSB(k)\n",
    "    return Gamma + binary_without_MSB\n",
    "\n",
    "\n"
   ]
  },
  {
   "cell_type": "code",
   "execution_count": 14,
   "id": "e5e08f6d",
   "metadata": {},
   "outputs": [],
   "source": [
    "#elias delta decoding\n",
    "import math\n",
    "  \n",
    "def  Elias_Delta_Decoding(x):\n",
    "    x = list(x)\n",
    "    L=0\n",
    "    while True:\n",
    "        if not x[L] == '0':\n",
    "            break\n",
    "        L= L + 1\n",
    "      \n",
    "    # Reading L more bits and dropping ALL\n",
    "    x=x[2*L+1:] \n",
    "      \n",
    "    # Prepending with 1 in MSB\n",
    "    x.insert(0,'1') \n",
    "    x.reverse()\n",
    "    n=0\n",
    "      \n",
    "    # Converting binary to integer\n",
    "    for i in range(len(x)): \n",
    "        if x[i]=='1':\n",
    "            n=n+math.pow(2,i)\n",
    "    return int(n)\n",
    "  \n"
   ]
  },
  {
   "cell_type": "code",
   "execution_count": 15,
   "id": "5bfa994c",
   "metadata": {},
   "outputs": [
    {
     "name": "stdout",
     "output_type": "stream",
     "text": [
      "01101\n"
     ]
    }
   ],
   "source": [
    "#elias delta encoding for given number say 5\n",
    "k= 5\n",
    "print(EliasDeltaEncode(k))"
   ]
  },
  {
   "cell_type": "code",
   "execution_count": 16,
   "id": "cd4d8fee",
   "metadata": {},
   "outputs": [
    {
     "name": "stdout",
     "output_type": "stream",
     "text": [
      "5\n"
     ]
    }
   ],
   "source": [
    "#elias delta decoding for given number say 5 code -01101\n",
    "print(Elias_Delta_Decoding('01101'))"
   ]
  },
  {
   "cell_type": "code",
   "execution_count": 17,
   "id": "9ce82360",
   "metadata": {},
   "outputs": [
    {
     "name": "stdout",
     "output_type": "stream",
     "text": [
      "PREETHA SIVAKUMAR 19BCB0058\n"
     ]
    }
   ],
   "source": [
    "print('PREETHA SIVAKUMAR 19BCB0058')"
   ]
  },
  {
   "cell_type": "code",
   "execution_count": null,
   "id": "668ab839",
   "metadata": {},
   "outputs": [],
   "source": []
  }
 ],
 "metadata": {
  "kernelspec": {
   "display_name": "Python 3 (ipykernel)",
   "language": "python",
   "name": "python3"
  },
  "language_info": {
   "codemirror_mode": {
    "name": "ipython",
    "version": 3
   },
   "file_extension": ".py",
   "mimetype": "text/x-python",
   "name": "python",
   "nbconvert_exporter": "python",
   "pygments_lexer": "ipython3",
   "version": "3.9.7"
  }
 },
 "nbformat": 4,
 "nbformat_minor": 5
}

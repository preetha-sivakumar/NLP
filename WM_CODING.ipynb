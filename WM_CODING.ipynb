{
 "cells": [
  {
   "cell_type": "code",
   "execution_count": 2,
   "id": "153f3541",
   "metadata": {},
   "outputs": [
    {
     "name": "stdout",
     "output_type": "stream",
     "text": [
      "000110\n"
     ]
    }
   ],
   "source": [
    "# elias-gamma coding\n",
    "from math import log\n",
    "\n",
    "log2 = lambda x: log(x,2)\n",
    "    \n",
    "def Unary(x):\n",
    "    return (x-1)*'0'+'1'\n",
    "\n",
    "def Binary(x,l =1):\n",
    "    s= '{0:0%db}' % l\n",
    "    return s.format(x)\n",
    "def Elias_Gamma(x):\n",
    "    if(x ==0):\n",
    "        return '0'\n",
    "    n = 1+ int(log2(x))\n",
    "    b = x -2**(int(log2(x)))\n",
    "    l = int(log2(x))\n",
    "    \n",
    "    return Unary(n) + Binary (b,1)\n",
    "print(Elias_Gamma(10))"
   ]
  },
  {
   "cell_type": "code",
   "execution_count": 4,
   "id": "519b8572",
   "metadata": {},
   "outputs": [
    {
     "name": "stdout",
     "output_type": "stream",
     "text": [
      "Enter your value for elias gamma coding: 12\n",
      "0001100\n"
     ]
    }
   ],
   "source": [
    "val = input(\"Enter your value for elias gamma coding: \")\n",
    "int_val = int(val)\n",
    "print(Elias_Gamma(int_val))"
   ]
  },
  {
   "cell_type": "code",
   "execution_count": 7,
   "id": "ed15252c",
   "metadata": {},
   "outputs": [
    {
     "name": "stdout",
     "output_type": "stream",
     "text": [
      "000110\n"
     ]
    }
   ],
   "source": [
    "import  math\n",
    "\n",
    "unary = lambda n: n* '0' + '1'\n",
    "binary = lambda n, l= 1:(\"{0:0%db}\" % 1).format(n)\n",
    "\n",
    "def elias(n):\n",
    "    if(n==0):\n",
    "        return '0'\n",
    "    x = int(log(n,2))\n",
    "    \n",
    "    u = x\n",
    "    b = n-2 **x\n",
    "    \n",
    "    return unary(u) + binary(b,x)\n",
    "print(elias(10))"
   ]
  },
  {
   "cell_type": "code",
   "execution_count": 10,
   "id": "a22aba9d",
   "metadata": {},
   "outputs": [
    {
     "name": "stdout",
     "output_type": "stream",
     "text": [
      "00100010\n"
     ]
    }
   ],
   "source": [
    "#elias delta coding\n",
    "from math import log\n",
    "from math import floor\n",
    "\n",
    "def Binary_RepWithout_MSB(x):\n",
    "    binary = \"{0:b}\".format(int(x))\n",
    "    binary_without_MSB = binary[1:]\n",
    "    return binary_without_MSB\n",
    "\n",
    "def EliasGammaEncode(k):\n",
    "    if(k==0):\n",
    "        return '0'\n",
    "    N = 1+ floor(log(k,2))\n",
    "    Unary = (N-1)*'0' + '1'\n",
    "    return Unary +Binary_RepWithout_MSB(k)\n",
    "\n",
    "def EliasDeltaEncode(x):\n",
    "    Gamma = EliasGammaEncode(1 +floor(log(k,2)))\n",
    "    binary_without_MSB = Binary_RepWithout_MSB(k)\n",
    "    return Gamma + binary_without_MSB\n",
    "\n",
    "k= 10\n",
    "print(EliasDeltaEncode(k))"
   ]
  },
  {
   "cell_type": "code",
   "execution_count": 5,
   "id": "f43c587f",
   "metadata": {},
   "outputs": [
    {
     "name": "stdout",
     "output_type": "stream",
     "text": [
      "00001\n"
     ]
    }
   ],
   "source": [
    "# decimal to unary conerversion\n",
    "def Unary(num):\n",
    "    return (num -1)*'0'  +'1'\n",
    "  \n",
    "print(Unary(5))"
   ]
  },
  {
   "cell_type": "code",
   "execution_count": 13,
   "id": "64251d62",
   "metadata": {},
   "outputs": [
    {
     "name": "stdout",
     "output_type": "stream",
     "text": [
      "2-01\n",
      "3-001\n",
      "5-00001\n",
      "7-0000001\n",
      "11-00000000001\n",
      "13-0000000000001\n",
      "17-00000000000000001\n",
      "19-0000000000000000001\n"
     ]
    }
   ],
   "source": [
    "# decimal to unary all prime number\n",
    "num =20\n",
    "\n",
    "for j in range(2,20):\n",
    "    c =0\n",
    "    for i in range(2, (j//2 +1)):\n",
    "        if (j % i) == 0:\n",
    "            c = c+1\n",
    "            break\n",
    "    if(c==0):    \n",
    "        print(str(j) + \"-\"  + Unary(j))"
   ]
  },
  {
   "cell_type": "code",
   "execution_count": 29,
   "id": "29603877",
   "metadata": {},
   "outputs": [
    {
     "name": "stdout",
     "output_type": "stream",
     "text": [
      "Enter unary code:00001\n",
      "5\n"
     ]
    }
   ],
   "source": [
    "#unary decoding\n",
    "def unary_decode:\n",
    "\n",
    "    c =0\n",
    "    for i in code:\n",
    "        if i ==\"0\":\n",
    "            c += 1\n",
    "    c = c+1   \n",
    "    return c"
   ]
  },
  {
   "cell_type": "code",
   "execution_count": null,
   "id": "58583de6",
   "metadata": {},
   "outputs": [],
   "source": []
  }
 ],
 "metadata": {
  "kernelspec": {
   "display_name": "Python 3 (ipykernel)",
   "language": "python",
   "name": "python3"
  },
  "language_info": {
   "codemirror_mode": {
    "name": "ipython",
    "version": 3
   },
   "file_extension": ".py",
   "mimetype": "text/x-python",
   "name": "python",
   "nbconvert_exporter": "python",
   "pygments_lexer": "ipython3",
   "version": "3.9.7"
  }
 },
 "nbformat": 4,
 "nbformat_minor": 5
}
